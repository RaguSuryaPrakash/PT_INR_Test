{
 "cells": [
  {
   "cell_type": "code",
   "execution_count": 1,
   "id": "5316e0f7-26dd-4a34-9342-db18c7cdaa2e",
   "metadata": {},
   "outputs": [
    {
     "name": "stdout",
     "output_type": "stream",
     "text": [
      "Predicted Risk Level: Low [1.48303582]\n"
     ]
    }
   ],
   "source": [
    "import pickle\n",
    "\n",
    "loaded_model=pickle.load(open(\"finalize_svm_model_PT_INR_Prothrombin.sav\",'rb'))\n",
    "result=loaded_model.predict([[69, 18.355144, 2.765927, 1]])\n",
    "\n",
    "print(\"Predicted Risk Level: Low\",result)"
   ]
  },
  {
   "cell_type": "code",
   "execution_count": null,
   "id": "d85f92a3-3523-4548-9b1b-d66a57f57a71",
   "metadata": {},
   "outputs": [],
   "source": []
  }
 ],
 "metadata": {
  "kernelspec": {
   "display_name": "Python 3 (ipykernel)",
   "language": "python",
   "name": "python3"
  },
  "language_info": {
   "codemirror_mode": {
    "name": "ipython",
    "version": 3
   },
   "file_extension": ".py",
   "mimetype": "text/x-python",
   "name": "python",
   "nbconvert_exporter": "python",
   "pygments_lexer": "ipython3",
   "version": "3.11.10"
  }
 },
 "nbformat": 4,
 "nbformat_minor": 5
}
