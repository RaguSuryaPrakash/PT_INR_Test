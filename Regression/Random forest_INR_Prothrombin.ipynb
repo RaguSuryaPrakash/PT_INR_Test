{
 "cells": [
  {
   "cell_type": "code",
   "execution_count": 1,
   "id": "accdbcd8-af92-4c22-bec1-28e69350de35",
   "metadata": {},
   "outputs": [],
   "source": [
    "import pandas as pd"
   ]
  },
  {
   "cell_type": "code",
   "execution_count": 2,
   "id": "d9bf2c8f-b853-4ef4-8af7-b7f74517df2b",
   "metadata": {},
   "outputs": [],
   "source": [
    "dataset=pd.read_csv(\"PT_INR_Prothrombin _Introduction _Test _Result_Dataset .csv\")"
   ]
  },
  {
   "cell_type": "code",
   "execution_count": 3,
   "id": "a3be5aae-c1e9-4015-828a-85e1c2891c6f",
   "metadata": {},
   "outputs": [
    {
     "data": {
      "text/html": [
       "<div>\n",
       "<style scoped>\n",
       "    .dataframe tbody tr th:only-of-type {\n",
       "        vertical-align: middle;\n",
       "    }\n",
       "\n",
       "    .dataframe tbody tr th {\n",
       "        vertical-align: top;\n",
       "    }\n",
       "\n",
       "    .dataframe thead th {\n",
       "        text-align: right;\n",
       "    }\n",
       "</style>\n",
       "<table border=\"1\" class=\"dataframe\">\n",
       "  <thead>\n",
       "    <tr style=\"text-align: right;\">\n",
       "      <th></th>\n",
       "      <th>Patient ID</th>\n",
       "      <th>Age</th>\n",
       "      <th>Gender</th>\n",
       "      <th>PT Value</th>\n",
       "      <th>INR Value</th>\n",
       "      <th>Health Condition</th>\n",
       "      <th>Treatment Type</th>\n",
       "      <th>Risk Level</th>\n",
       "    </tr>\n",
       "  </thead>\n",
       "  <tbody>\n",
       "    <tr>\n",
       "      <th>0</th>\n",
       "      <td>1</td>\n",
       "      <td>69</td>\n",
       "      <td>Male</td>\n",
       "      <td>18.355144</td>\n",
       "      <td>2.765927</td>\n",
       "      <td>Normal</td>\n",
       "      <td>Vitamin K</td>\n",
       "      <td>Low</td>\n",
       "    </tr>\n",
       "    <tr>\n",
       "      <th>1</th>\n",
       "      <td>2</td>\n",
       "      <td>32</td>\n",
       "      <td>Male</td>\n",
       "      <td>10.894440</td>\n",
       "      <td>2.480643</td>\n",
       "      <td>Normal</td>\n",
       "      <td>Anticoagulants</td>\n",
       "      <td>Low</td>\n",
       "    </tr>\n",
       "    <tr>\n",
       "      <th>2</th>\n",
       "      <td>3</td>\n",
       "      <td>89</td>\n",
       "      <td>Male</td>\n",
       "      <td>15.985299</td>\n",
       "      <td>2.662863</td>\n",
       "      <td>Normal</td>\n",
       "      <td>Vitamin K</td>\n",
       "      <td>Low</td>\n",
       "    </tr>\n",
       "    <tr>\n",
       "      <th>3</th>\n",
       "      <td>4</td>\n",
       "      <td>78</td>\n",
       "      <td>Male</td>\n",
       "      <td>18.171537</td>\n",
       "      <td>2.927404</td>\n",
       "      <td>Normal</td>\n",
       "      <td>Anticoagulants</td>\n",
       "      <td>Low</td>\n",
       "    </tr>\n",
       "    <tr>\n",
       "      <th>4</th>\n",
       "      <td>5</td>\n",
       "      <td>38</td>\n",
       "      <td>Female</td>\n",
       "      <td>13.652989</td>\n",
       "      <td>3.195382</td>\n",
       "      <td>Bleeding Disorder</td>\n",
       "      <td>Vitamin K</td>\n",
       "      <td>High</td>\n",
       "    </tr>\n",
       "    <tr>\n",
       "      <th>...</th>\n",
       "      <td>...</td>\n",
       "      <td>...</td>\n",
       "      <td>...</td>\n",
       "      <td>...</td>\n",
       "      <td>...</td>\n",
       "      <td>...</td>\n",
       "      <td>...</td>\n",
       "      <td>...</td>\n",
       "    </tr>\n",
       "    <tr>\n",
       "      <th>6995</th>\n",
       "      <td>6996</td>\n",
       "      <td>69</td>\n",
       "      <td>Female</td>\n",
       "      <td>16.801529</td>\n",
       "      <td>2.319676</td>\n",
       "      <td>Normal</td>\n",
       "      <td>NaN</td>\n",
       "      <td>Low</td>\n",
       "    </tr>\n",
       "    <tr>\n",
       "      <th>6996</th>\n",
       "      <td>6997</td>\n",
       "      <td>23</td>\n",
       "      <td>Male</td>\n",
       "      <td>23.064043</td>\n",
       "      <td>2.153335</td>\n",
       "      <td>Normal</td>\n",
       "      <td>NaN</td>\n",
       "      <td>Low</td>\n",
       "    </tr>\n",
       "    <tr>\n",
       "      <th>6997</th>\n",
       "      <td>6998</td>\n",
       "      <td>86</td>\n",
       "      <td>Female</td>\n",
       "      <td>16.917810</td>\n",
       "      <td>2.861205</td>\n",
       "      <td>Normal</td>\n",
       "      <td>Anticoagulants</td>\n",
       "      <td>Low</td>\n",
       "    </tr>\n",
       "    <tr>\n",
       "      <th>6998</th>\n",
       "      <td>6999</td>\n",
       "      <td>91</td>\n",
       "      <td>Male</td>\n",
       "      <td>16.872807</td>\n",
       "      <td>2.359891</td>\n",
       "      <td>Normal</td>\n",
       "      <td>Anticoagulants</td>\n",
       "      <td>Low</td>\n",
       "    </tr>\n",
       "    <tr>\n",
       "      <th>6999</th>\n",
       "      <td>7000</td>\n",
       "      <td>26</td>\n",
       "      <td>Male</td>\n",
       "      <td>18.434645</td>\n",
       "      <td>2.780392</td>\n",
       "      <td>Bleeding Disorder</td>\n",
       "      <td>Anticoagulants</td>\n",
       "      <td>Moderate</td>\n",
       "    </tr>\n",
       "  </tbody>\n",
       "</table>\n",
       "<p>7000 rows × 8 columns</p>\n",
       "</div>"
      ],
      "text/plain": [
       "      Patient ID  Age  Gender   PT Value  INR Value   Health Condition  \\\n",
       "0              1   69    Male  18.355144   2.765927             Normal   \n",
       "1              2   32    Male  10.894440   2.480643             Normal   \n",
       "2              3   89    Male  15.985299   2.662863             Normal   \n",
       "3              4   78    Male  18.171537   2.927404             Normal   \n",
       "4              5   38  Female  13.652989   3.195382  Bleeding Disorder   \n",
       "...          ...  ...     ...        ...        ...                ...   \n",
       "6995        6996   69  Female  16.801529   2.319676             Normal   \n",
       "6996        6997   23    Male  23.064043   2.153335             Normal   \n",
       "6997        6998   86  Female  16.917810   2.861205             Normal   \n",
       "6998        6999   91    Male  16.872807   2.359891             Normal   \n",
       "6999        7000   26    Male  18.434645   2.780392  Bleeding Disorder   \n",
       "\n",
       "      Treatment Type Risk Level  \n",
       "0          Vitamin K        Low  \n",
       "1     Anticoagulants        Low  \n",
       "2          Vitamin K        Low  \n",
       "3     Anticoagulants        Low  \n",
       "4          Vitamin K       High  \n",
       "...              ...        ...  \n",
       "6995             NaN        Low  \n",
       "6996             NaN        Low  \n",
       "6997  Anticoagulants        Low  \n",
       "6998  Anticoagulants        Low  \n",
       "6999  Anticoagulants   Moderate  \n",
       "\n",
       "[7000 rows x 8 columns]"
      ]
     },
     "execution_count": 3,
     "metadata": {},
     "output_type": "execute_result"
    }
   ],
   "source": [
    "dataset"
   ]
  },
  {
   "cell_type": "code",
   "execution_count": 4,
   "id": "4cfcdb79-aa0b-4b89-9071-981279e4b96a",
   "metadata": {},
   "outputs": [],
   "source": [
    "dataset = dataset.drop(columns=['Patient ID','Health Condition','Treatment Type'])"
   ]
  },
  {
   "cell_type": "code",
   "execution_count": 5,
   "id": "e7698cee-c8ce-4c65-b8c7-60a8f57d5b7f",
   "metadata": {},
   "outputs": [],
   "source": [
    "# Perform one-hot encoding with drop_first=True\n",
    "dataset= pd.get_dummies(dataset, drop_first=True)"
   ]
  },
  {
   "cell_type": "code",
   "execution_count": 6,
   "id": "c33920e9-5af0-4b16-b120-27d9b0cd45eb",
   "metadata": {},
   "outputs": [],
   "source": [
    "# Convert specific columns from True/False to 0/1\n",
    "columns = ['Gender_Male', 'Risk Level_Low', 'Risk Level_Moderate']\n",
    "dataset[columns] = dataset[columns].astype(int)"
   ]
  },
  {
   "cell_type": "code",
   "execution_count": 7,
   "id": "e94967eb-85ae-4bca-8c05-c798bc449b19",
   "metadata": {},
   "outputs": [
    {
     "data": {
      "text/html": [
       "<div>\n",
       "<style scoped>\n",
       "    .dataframe tbody tr th:only-of-type {\n",
       "        vertical-align: middle;\n",
       "    }\n",
       "\n",
       "    .dataframe tbody tr th {\n",
       "        vertical-align: top;\n",
       "    }\n",
       "\n",
       "    .dataframe thead th {\n",
       "        text-align: right;\n",
       "    }\n",
       "</style>\n",
       "<table border=\"1\" class=\"dataframe\">\n",
       "  <thead>\n",
       "    <tr style=\"text-align: right;\">\n",
       "      <th></th>\n",
       "      <th>Age</th>\n",
       "      <th>PT Value</th>\n",
       "      <th>INR Value</th>\n",
       "      <th>Gender_Male</th>\n",
       "    </tr>\n",
       "  </thead>\n",
       "  <tbody>\n",
       "    <tr>\n",
       "      <th>0</th>\n",
       "      <td>69</td>\n",
       "      <td>18.355144</td>\n",
       "      <td>2.765927</td>\n",
       "      <td>1</td>\n",
       "    </tr>\n",
       "    <tr>\n",
       "      <th>1</th>\n",
       "      <td>32</td>\n",
       "      <td>10.894440</td>\n",
       "      <td>2.480643</td>\n",
       "      <td>1</td>\n",
       "    </tr>\n",
       "    <tr>\n",
       "      <th>2</th>\n",
       "      <td>89</td>\n",
       "      <td>15.985299</td>\n",
       "      <td>2.662863</td>\n",
       "      <td>1</td>\n",
       "    </tr>\n",
       "    <tr>\n",
       "      <th>3</th>\n",
       "      <td>78</td>\n",
       "      <td>18.171537</td>\n",
       "      <td>2.927404</td>\n",
       "      <td>1</td>\n",
       "    </tr>\n",
       "    <tr>\n",
       "      <th>4</th>\n",
       "      <td>38</td>\n",
       "      <td>13.652989</td>\n",
       "      <td>3.195382</td>\n",
       "      <td>0</td>\n",
       "    </tr>\n",
       "    <tr>\n",
       "      <th>...</th>\n",
       "      <td>...</td>\n",
       "      <td>...</td>\n",
       "      <td>...</td>\n",
       "      <td>...</td>\n",
       "    </tr>\n",
       "    <tr>\n",
       "      <th>6995</th>\n",
       "      <td>69</td>\n",
       "      <td>16.801529</td>\n",
       "      <td>2.319676</td>\n",
       "      <td>0</td>\n",
       "    </tr>\n",
       "    <tr>\n",
       "      <th>6996</th>\n",
       "      <td>23</td>\n",
       "      <td>23.064043</td>\n",
       "      <td>2.153335</td>\n",
       "      <td>1</td>\n",
       "    </tr>\n",
       "    <tr>\n",
       "      <th>6997</th>\n",
       "      <td>86</td>\n",
       "      <td>16.917810</td>\n",
       "      <td>2.861205</td>\n",
       "      <td>0</td>\n",
       "    </tr>\n",
       "    <tr>\n",
       "      <th>6998</th>\n",
       "      <td>91</td>\n",
       "      <td>16.872807</td>\n",
       "      <td>2.359891</td>\n",
       "      <td>1</td>\n",
       "    </tr>\n",
       "    <tr>\n",
       "      <th>6999</th>\n",
       "      <td>26</td>\n",
       "      <td>18.434645</td>\n",
       "      <td>2.780392</td>\n",
       "      <td>1</td>\n",
       "    </tr>\n",
       "  </tbody>\n",
       "</table>\n",
       "<p>7000 rows × 4 columns</p>\n",
       "</div>"
      ],
      "text/plain": [
       "      Age   PT Value  INR Value  Gender_Male\n",
       "0      69  18.355144   2.765927            1\n",
       "1      32  10.894440   2.480643            1\n",
       "2      89  15.985299   2.662863            1\n",
       "3      78  18.171537   2.927404            1\n",
       "4      38  13.652989   3.195382            0\n",
       "...   ...        ...        ...          ...\n",
       "6995   69  16.801529   2.319676            0\n",
       "6996   23  23.064043   2.153335            1\n",
       "6997   86  16.917810   2.861205            0\n",
       "6998   91  16.872807   2.359891            1\n",
       "6999   26  18.434645   2.780392            1\n",
       "\n",
       "[7000 rows x 4 columns]"
      ]
     },
     "execution_count": 7,
     "metadata": {},
     "output_type": "execute_result"
    }
   ],
   "source": [
    "independent = dataset[['Age', 'PT Value', 'INR Value', 'Gender_Male']]\n",
    "independent"
   ]
  },
  {
   "cell_type": "code",
   "execution_count": 8,
   "id": "e7e98b08-5964-4368-a6e9-55054964929f",
   "metadata": {},
   "outputs": [
    {
     "data": {
      "text/html": [
       "<div>\n",
       "<style scoped>\n",
       "    .dataframe tbody tr th:only-of-type {\n",
       "        vertical-align: middle;\n",
       "    }\n",
       "\n",
       "    .dataframe tbody tr th {\n",
       "        vertical-align: top;\n",
       "    }\n",
       "\n",
       "    .dataframe thead th {\n",
       "        text-align: right;\n",
       "    }\n",
       "</style>\n",
       "<table border=\"1\" class=\"dataframe\">\n",
       "  <thead>\n",
       "    <tr style=\"text-align: right;\">\n",
       "      <th></th>\n",
       "      <th>Risk Level_Low</th>\n",
       "    </tr>\n",
       "  </thead>\n",
       "  <tbody>\n",
       "    <tr>\n",
       "      <th>0</th>\n",
       "      <td>1</td>\n",
       "    </tr>\n",
       "    <tr>\n",
       "      <th>1</th>\n",
       "      <td>1</td>\n",
       "    </tr>\n",
       "    <tr>\n",
       "      <th>2</th>\n",
       "      <td>1</td>\n",
       "    </tr>\n",
       "    <tr>\n",
       "      <th>3</th>\n",
       "      <td>1</td>\n",
       "    </tr>\n",
       "    <tr>\n",
       "      <th>4</th>\n",
       "      <td>0</td>\n",
       "    </tr>\n",
       "    <tr>\n",
       "      <th>...</th>\n",
       "      <td>...</td>\n",
       "    </tr>\n",
       "    <tr>\n",
       "      <th>6995</th>\n",
       "      <td>1</td>\n",
       "    </tr>\n",
       "    <tr>\n",
       "      <th>6996</th>\n",
       "      <td>1</td>\n",
       "    </tr>\n",
       "    <tr>\n",
       "      <th>6997</th>\n",
       "      <td>1</td>\n",
       "    </tr>\n",
       "    <tr>\n",
       "      <th>6998</th>\n",
       "      <td>1</td>\n",
       "    </tr>\n",
       "    <tr>\n",
       "      <th>6999</th>\n",
       "      <td>0</td>\n",
       "    </tr>\n",
       "  </tbody>\n",
       "</table>\n",
       "<p>7000 rows × 1 columns</p>\n",
       "</div>"
      ],
      "text/plain": [
       "      Risk Level_Low\n",
       "0                  1\n",
       "1                  1\n",
       "2                  1\n",
       "3                  1\n",
       "4                  0\n",
       "...              ...\n",
       "6995               1\n",
       "6996               1\n",
       "6997               1\n",
       "6998               1\n",
       "6999               0\n",
       "\n",
       "[7000 rows x 1 columns]"
      ]
     },
     "execution_count": 8,
     "metadata": {},
     "output_type": "execute_result"
    }
   ],
   "source": [
    "dependent = dataset[['Risk Level_Low']]\n",
    "dependent"
   ]
  },
  {
   "cell_type": "code",
   "execution_count": 9,
   "id": "4abfd867-4d81-4a12-b7a9-5f92a435bbf0",
   "metadata": {},
   "outputs": [],
   "source": [
    "from sklearn.model_selection import train_test_split\n",
    "x_train,x_test,y_train,y_test=train_test_split(independent,dependent,test_size=0.30,random_state=0)"
   ]
  },
  {
   "cell_type": "code",
   "execution_count": 10,
   "id": "95a188d5-3428-4a6a-96c5-8c926c7c8781",
   "metadata": {},
   "outputs": [
    {
     "name": "stderr",
     "output_type": "stream",
     "text": [
      "C:\\Users\\ragus\\anaconda3\\envs\\AgriYieldAI\\Lib\\site-packages\\sklearn\\base.py:1473: DataConversionWarning: A column-vector y was passed when a 1d array was expected. Please change the shape of y to (n_samples,), for example using ravel().\n",
      "  return fit_method(estimator, *args, **kwargs)\n"
     ]
    }
   ],
   "source": [
    "#1.ensemble is a library import file of RandomForestRegressor,2.regressor=randomforestregressor() as procedure,(n_estimator=50,random_state=0,hypertuning parameter),when fit method excited(x_train,y_train)(this all method save in regressor)\n",
    "from sklearn.ensemble import RandomForestRegressor\n",
    "regressor=RandomForestRegressor(n_estimators=1000,criterion=\"friedman_mse\",max_samples=None)\n",
    "regressor=regressor.fit(x_train,y_train)"
   ]
  },
  {
   "cell_type": "code",
   "execution_count": 11,
   "id": "9d505988-a949-4455-b2f7-0ddb9a1601b4",
   "metadata": {},
   "outputs": [],
   "source": [
    "y_pred=regressor.predict(x_test)"
   ]
  },
  {
   "cell_type": "code",
   "execution_count": 12,
   "id": "f0ddc114-a1a8-4bce-a29d-640abd428227",
   "metadata": {},
   "outputs": [],
   "source": [
    "from sklearn.metrics import r2_score\n",
    "r_score=r2_score(y_test,y_pred)"
   ]
  },
  {
   "cell_type": "code",
   "execution_count": 13,
   "id": "cca41006-de98-4c38-b01b-2f6dc7398139",
   "metadata": {},
   "outputs": [
    {
     "data": {
      "text/plain": [
       "0.25604548853544395"
      ]
     },
     "execution_count": 13,
     "metadata": {},
     "output_type": "execute_result"
    }
   ],
   "source": [
    "r_score"
   ]
  },
  {
   "cell_type": "code",
   "execution_count": 14,
   "id": "ff3e775d-2677-43c7-bca1-8c8eaaa6f369",
   "metadata": {},
   "outputs": [],
   "source": [
    "import pickle\n",
    "filename=\"finalize_random_forest_INR_Prothrombin.sav\"\n",
    "pickle.dump(regressor,open(filename,\"wb\"))"
   ]
  },
  {
   "cell_type": "code",
   "execution_count": 15,
   "id": "f40d6512-6427-4d57-8acd-d25c8bd7221e",
   "metadata": {},
   "outputs": [
    {
     "name": "stderr",
     "output_type": "stream",
     "text": [
      "C:\\Users\\ragus\\anaconda3\\envs\\AgriYieldAI\\Lib\\site-packages\\sklearn\\base.py:493: UserWarning: X does not have valid feature names, but RandomForestRegressor was fitted with feature names\n",
      "  warnings.warn(\n"
     ]
    }
   ],
   "source": [
    "loaded_model=pickle.load(open(\"finalize_random_forest_INR_Prothrombin.sav\",'rb'))\n",
    "result=loaded_model.predict([[69, 18.355144, 2.765927, 1]])"
   ]
  },
  {
   "cell_type": "code",
   "execution_count": 16,
   "id": "a5052bf5-d406-4c73-a7d3-b90a6ced8009",
   "metadata": {},
   "outputs": [
    {
     "name": "stdout",
     "output_type": "stream",
     "text": [
      "Predicted Risk Level: Low [0.94]\n"
     ]
    }
   ],
   "source": [
    "print(\"Predicted Risk Level: Low\",result)"
   ]
  },
  {
   "cell_type": "code",
   "execution_count": null,
   "id": "1f7b062b-845f-4a40-9188-4d449d2f7866",
   "metadata": {},
   "outputs": [],
   "source": []
  }
 ],
 "metadata": {
  "kernelspec": {
   "display_name": "Python 3 (ipykernel)",
   "language": "python",
   "name": "python3"
  },
  "language_info": {
   "codemirror_mode": {
    "name": "ipython",
    "version": 3
   },
   "file_extension": ".py",
   "mimetype": "text/x-python",
   "name": "python",
   "nbconvert_exporter": "python",
   "pygments_lexer": "ipython3",
   "version": "3.11.10"
  }
 },
 "nbformat": 4,
 "nbformat_minor": 5
}
